{
 "cells": [
  {
   "cell_type": "code",
   "execution_count": 4,
   "metadata": {},
   "outputs": [],
   "source": [
    "Name = 'Mazhar'"
   ]
  },
  {
   "cell_type": "code",
   "execution_count": 5,
   "metadata": {},
   "outputs": [],
   "source": [
    "FatherName = 'Mehdi'"
   ]
  },
  {
   "cell_type": "code",
   "execution_count": 6,
   "metadata": {},
   "outputs": [],
   "source": [
    "LastName = 'Manasiya'"
   ]
  },
  {
   "cell_type": "code",
   "execution_count": 7,
   "metadata": {},
   "outputs": [],
   "source": [
    "Date_of_Birth = '20-Oct-1995'\n",
    "Age = 24\n",
    "Country = 'Pakistan'"
   ]
  },
  {
   "cell_type": "code",
   "execution_count": 9,
   "metadata": {},
   "outputs": [
    {
     "name": "stdout",
     "output_type": "stream",
     "text": [
      "Name: Mazhar\n",
      "Father Name: Mehdi\n",
      "Last Name: Manasiya\n",
      "Date of Birth: 20-Oct-1995\n",
      "Age: 24\n",
      "Country: Pakistan\n"
     ]
    }
   ],
   "source": [
    "print('Name:', Name)\n",
    "print('Father Name:', FatherName)\n",
    "print('Last Name:', LastName)\n",
    "print('Date of Birth:', Date_of_Birth)\n",
    "print('Age:',Age)\n",
    "print('Country:', Country)"
   ]
  },
  {
   "cell_type": "code",
   "execution_count": null,
   "metadata": {},
   "outputs": [],
   "source": []
  }
 ],
 "metadata": {
  "kernelspec": {
   "display_name": "Python 3",
   "language": "python",
   "name": "python3"
  },
  "language_info": {
   "codemirror_mode": {
    "name": "ipython",
    "version": 3
   },
   "file_extension": ".py",
   "mimetype": "text/x-python",
   "name": "python",
   "nbconvert_exporter": "python",
   "pygments_lexer": "ipython3",
   "version": "3.7.4"
  }
 },
 "nbformat": 4,
 "nbformat_minor": 2
}
